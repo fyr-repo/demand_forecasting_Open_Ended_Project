{
 "cells": [
  {
   "cell_type": "code",
   "execution_count": 2,
   "id": "f0aef833-968d-4d10-8ad9-5a3f16c74ec9",
   "metadata": {},
   "outputs": [],
   "source": [
    "import pandas as pd\n",
    "\n"
   ]
  },
  {
   "cell_type": "code",
   "execution_count": 6,
   "id": "fe04a68e-96d2-4fdc-aefe-d3e209740a04",
   "metadata": {},
   "outputs": [],
   "source": [
    "def convert_log_to_csv(log_file_path, csv_file_path):\n",
    "    # Read the log file into a DataFrame\n",
    "    log_df = pd.read_csv(log_file_path, engine='c', sep=' ', quotechar='\"', skipinitialspace=True,\n",
    "                         names=['IP', '-1', '-2', 'Timestamp', 'Timestamp-region', 'Request', 'Status', 'Bytes', '-3', 'UserAgent', '-4'])\n",
    "\n",
    "    # Extract relevant information from the 'Request' column\n",
    "    log_df['Method'] = log_df['Request'].str.extract(r'\"(\\w+)')\n",
    "    log_df['URL'] = log_df['Request'].str.extract(r' (\\S+) HTTP')\n",
    "\n",
    "    # Write the DataFrame to a CSV file\n",
    "    log_df.to_csv(csv_file_path, index=False, columns=['IP','-1', '-2', 'Timestamp', 'Timestamp-region','Request', 'Method', 'URL', 'Status', 'Bytes', 'UserAgent', '-3','-4'])\n",
    "\n",
    "# Example usage\n",
    "convert_log_to_csv('harvard_dataverse_dataset/access.log', 'access.log.csv')"
   ]
  },
  {
   "cell_type": "code",
   "execution_count": null,
   "id": "015a70f8-39e6-476c-b17c-5fd62b726d01",
   "metadata": {},
   "outputs": [],
   "source": []
  }
 ],
 "metadata": {
  "kernelspec": {
   "display_name": "Python 3 (ipykernel)",
   "language": "python",
   "name": "python3"
  },
  "language_info": {
   "codemirror_mode": {
    "name": "ipython",
    "version": 3
   },
   "file_extension": ".py",
   "mimetype": "text/x-python",
   "name": "python",
   "nbconvert_exporter": "python",
   "pygments_lexer": "ipython3",
   "version": "3.10.10"
  }
 },
 "nbformat": 4,
 "nbformat_minor": 5
}
