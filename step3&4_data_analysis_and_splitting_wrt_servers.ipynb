{
 "cells": [
  {
   "cell_type": "code",
   "execution_count": 1,
   "id": "1dd1f9cb-3929-4950-9373-695a8a60a72d",
   "metadata": {},
   "outputs": [],
   "source": [
    "import pandas as pd\n",
    "import numpy as np\n",
    "\n",
    "import dask\n",
    "import dask.dataframe as dd"
   ]
  },
  {
   "cell_type": "code",
   "execution_count": 2,
   "id": "48d0ea90-5219-4be0-92a8-c3a749f95f06",
   "metadata": {},
   "outputs": [],
   "source": [
    "from datetime import datetime"
   ]
  },
  {
   "cell_type": "code",
   "execution_count": 3,
   "id": "2db9249f-e159-401e-9f1f-d068e5044146",
   "metadata": {},
   "outputs": [],
   "source": [
    "formatted_dataset = dd.read_csv('formatted_dataset_3.csv')"
   ]
  },
  {
   "cell_type": "code",
   "execution_count": 4,
   "id": "1a825519-5264-4936-a800-5fa81939cd38",
   "metadata": {},
   "outputs": [
    {
     "data": {
      "text/html": [
       "<div>\n",
       "<style scoped>\n",
       "    .dataframe tbody tr th:only-of-type {\n",
       "        vertical-align: middle;\n",
       "    }\n",
       "\n",
       "    .dataframe tbody tr th {\n",
       "        vertical-align: top;\n",
       "    }\n",
       "\n",
       "    .dataframe thead th {\n",
       "        text-align: right;\n",
       "    }\n",
       "</style>\n",
       "<table border=\"1\" class=\"dataframe\">\n",
       "  <thead>\n",
       "    <tr style=\"text-align: right;\">\n",
       "      <th></th>\n",
       "      <th>IP</th>\n",
       "      <th>request_date</th>\n",
       "      <th>request_time</th>\n",
       "      <th>request_hour</th>\n",
       "      <th>request_minute</th>\n",
       "      <th>request_second</th>\n",
       "      <th>request_day_of_week</th>\n",
       "      <th>type_of_server</th>\n",
       "      <th>requested_bytes</th>\n",
       "    </tr>\n",
       "  </thead>\n",
       "  <tbody>\n",
       "    <tr>\n",
       "      <th>0</th>\n",
       "      <td>54.36.149.41</td>\n",
       "      <td>2019-01-22</td>\n",
       "      <td>03:56:14</td>\n",
       "      <td>3</td>\n",
       "      <td>56</td>\n",
       "      <td>14</td>\n",
       "      <td>Tuesday</td>\n",
       "      <td>filter</td>\n",
       "      <td>30577</td>\n",
       "    </tr>\n",
       "    <tr>\n",
       "      <th>1</th>\n",
       "      <td>31.56.96.51</td>\n",
       "      <td>2019-01-22</td>\n",
       "      <td>03:56:16</td>\n",
       "      <td>3</td>\n",
       "      <td>56</td>\n",
       "      <td>16</td>\n",
       "      <td>Tuesday</td>\n",
       "      <td>image</td>\n",
       "      <td>5667</td>\n",
       "    </tr>\n",
       "    <tr>\n",
       "      <th>2</th>\n",
       "      <td>31.56.96.51</td>\n",
       "      <td>2019-01-22</td>\n",
       "      <td>03:56:16</td>\n",
       "      <td>3</td>\n",
       "      <td>56</td>\n",
       "      <td>16</td>\n",
       "      <td>Tuesday</td>\n",
       "      <td>image</td>\n",
       "      <td>5379</td>\n",
       "    </tr>\n",
       "    <tr>\n",
       "      <th>3</th>\n",
       "      <td>40.77.167.129</td>\n",
       "      <td>2019-01-22</td>\n",
       "      <td>03:56:17</td>\n",
       "      <td>3</td>\n",
       "      <td>56</td>\n",
       "      <td>17</td>\n",
       "      <td>Tuesday</td>\n",
       "      <td>image</td>\n",
       "      <td>1696</td>\n",
       "    </tr>\n",
       "    <tr>\n",
       "      <th>4</th>\n",
       "      <td>91.99.72.15</td>\n",
       "      <td>2019-01-22</td>\n",
       "      <td>03:56:17</td>\n",
       "      <td>3</td>\n",
       "      <td>56</td>\n",
       "      <td>17</td>\n",
       "      <td>Tuesday</td>\n",
       "      <td>product</td>\n",
       "      <td>41483</td>\n",
       "    </tr>\n",
       "    <tr>\n",
       "      <th>5</th>\n",
       "      <td>40.77.167.129</td>\n",
       "      <td>2019-01-22</td>\n",
       "      <td>03:56:17</td>\n",
       "      <td>3</td>\n",
       "      <td>56</td>\n",
       "      <td>17</td>\n",
       "      <td>Tuesday</td>\n",
       "      <td>image</td>\n",
       "      <td>2654</td>\n",
       "    </tr>\n",
       "    <tr>\n",
       "      <th>6</th>\n",
       "      <td>40.77.167.129</td>\n",
       "      <td>2019-01-22</td>\n",
       "      <td>03:56:18</td>\n",
       "      <td>3</td>\n",
       "      <td>56</td>\n",
       "      <td>18</td>\n",
       "      <td>Tuesday</td>\n",
       "      <td>image</td>\n",
       "      <td>3688</td>\n",
       "    </tr>\n",
       "    <tr>\n",
       "      <th>7</th>\n",
       "      <td>40.77.167.129</td>\n",
       "      <td>2019-01-22</td>\n",
       "      <td>03:56:18</td>\n",
       "      <td>3</td>\n",
       "      <td>56</td>\n",
       "      <td>18</td>\n",
       "      <td>Tuesday</td>\n",
       "      <td>image</td>\n",
       "      <td>14776</td>\n",
       "    </tr>\n",
       "    <tr>\n",
       "      <th>8</th>\n",
       "      <td>66.249.66.194</td>\n",
       "      <td>2019-01-22</td>\n",
       "      <td>03:56:18</td>\n",
       "      <td>3</td>\n",
       "      <td>56</td>\n",
       "      <td>18</td>\n",
       "      <td>Tuesday</td>\n",
       "      <td>filter</td>\n",
       "      <td>34277</td>\n",
       "    </tr>\n",
       "    <tr>\n",
       "      <th>9</th>\n",
       "      <td>40.77.167.129</td>\n",
       "      <td>2019-01-22</td>\n",
       "      <td>03:56:18</td>\n",
       "      <td>3</td>\n",
       "      <td>56</td>\n",
       "      <td>18</td>\n",
       "      <td>Tuesday</td>\n",
       "      <td>image</td>\n",
       "      <td>1695</td>\n",
       "    </tr>\n",
       "    <tr>\n",
       "      <th>10</th>\n",
       "      <td>207.46.13.136</td>\n",
       "      <td>2019-01-22</td>\n",
       "      <td>03:56:18</td>\n",
       "      <td>3</td>\n",
       "      <td>56</td>\n",
       "      <td>18</td>\n",
       "      <td>Tuesday</td>\n",
       "      <td>product</td>\n",
       "      <td>39677</td>\n",
       "    </tr>\n",
       "    <tr>\n",
       "      <th>11</th>\n",
       "      <td>40.77.167.129</td>\n",
       "      <td>2019-01-22</td>\n",
       "      <td>03:56:19</td>\n",
       "      <td>3</td>\n",
       "      <td>56</td>\n",
       "      <td>19</td>\n",
       "      <td>Tuesday</td>\n",
       "      <td>image</td>\n",
       "      <td>9831</td>\n",
       "    </tr>\n",
       "    <tr>\n",
       "      <th>12</th>\n",
       "      <td>178.253.33.51</td>\n",
       "      <td>2019-01-22</td>\n",
       "      <td>03:56:19</td>\n",
       "      <td>3</td>\n",
       "      <td>56</td>\n",
       "      <td>19</td>\n",
       "      <td>Tuesday</td>\n",
       "      <td>product</td>\n",
       "      <td>20406</td>\n",
       "    </tr>\n",
       "    <tr>\n",
       "      <th>13</th>\n",
       "      <td>40.77.167.129</td>\n",
       "      <td>2019-01-22</td>\n",
       "      <td>03:56:19</td>\n",
       "      <td>3</td>\n",
       "      <td>56</td>\n",
       "      <td>19</td>\n",
       "      <td>Tuesday</td>\n",
       "      <td>image</td>\n",
       "      <td>1796</td>\n",
       "    </tr>\n",
       "    <tr>\n",
       "      <th>14</th>\n",
       "      <td>91.99.72.15</td>\n",
       "      <td>2019-01-22</td>\n",
       "      <td>03:56:19</td>\n",
       "      <td>3</td>\n",
       "      <td>56</td>\n",
       "      <td>19</td>\n",
       "      <td>Tuesday</td>\n",
       "      <td>product</td>\n",
       "      <td>41725</td>\n",
       "    </tr>\n",
       "    <tr>\n",
       "      <th>15</th>\n",
       "      <td>40.77.167.129</td>\n",
       "      <td>2019-01-22</td>\n",
       "      <td>03:56:19</td>\n",
       "      <td>3</td>\n",
       "      <td>56</td>\n",
       "      <td>19</td>\n",
       "      <td>Tuesday</td>\n",
       "      <td>image</td>\n",
       "      <td>2739</td>\n",
       "    </tr>\n",
       "    <tr>\n",
       "      <th>16</th>\n",
       "      <td>207.46.13.136</td>\n",
       "      <td>2019-01-22</td>\n",
       "      <td>03:56:19</td>\n",
       "      <td>3</td>\n",
       "      <td>56</td>\n",
       "      <td>19</td>\n",
       "      <td>Tuesday</td>\n",
       "      <td>product</td>\n",
       "      <td>33617</td>\n",
       "    </tr>\n",
       "    <tr>\n",
       "      <th>17</th>\n",
       "      <td>40.77.167.129</td>\n",
       "      <td>2019-01-22</td>\n",
       "      <td>03:56:19</td>\n",
       "      <td>3</td>\n",
       "      <td>56</td>\n",
       "      <td>19</td>\n",
       "      <td>Tuesday</td>\n",
       "      <td>image</td>\n",
       "      <td>2788</td>\n",
       "    </tr>\n",
       "    <tr>\n",
       "      <th>18</th>\n",
       "      <td>40.77.167.129</td>\n",
       "      <td>2019-01-22</td>\n",
       "      <td>03:56:20</td>\n",
       "      <td>3</td>\n",
       "      <td>56</td>\n",
       "      <td>20</td>\n",
       "      <td>Tuesday</td>\n",
       "      <td>image</td>\n",
       "      <td>3481</td>\n",
       "    </tr>\n",
       "    <tr>\n",
       "      <th>19</th>\n",
       "      <td>66.249.66.194</td>\n",
       "      <td>2019-01-22</td>\n",
       "      <td>03:56:20</td>\n",
       "      <td>3</td>\n",
       "      <td>56</td>\n",
       "      <td>20</td>\n",
       "      <td>Tuesday</td>\n",
       "      <td>filter</td>\n",
       "      <td>19451</td>\n",
       "    </tr>\n",
       "  </tbody>\n",
       "</table>\n",
       "</div>"
      ],
      "text/plain": [
       "               IP request_date request_time  request_hour  request_minute  \\\n",
       "0    54.36.149.41   2019-01-22     03:56:14             3              56   \n",
       "1     31.56.96.51   2019-01-22     03:56:16             3              56   \n",
       "2     31.56.96.51   2019-01-22     03:56:16             3              56   \n",
       "3   40.77.167.129   2019-01-22     03:56:17             3              56   \n",
       "4     91.99.72.15   2019-01-22     03:56:17             3              56   \n",
       "5   40.77.167.129   2019-01-22     03:56:17             3              56   \n",
       "6   40.77.167.129   2019-01-22     03:56:18             3              56   \n",
       "7   40.77.167.129   2019-01-22     03:56:18             3              56   \n",
       "8   66.249.66.194   2019-01-22     03:56:18             3              56   \n",
       "9   40.77.167.129   2019-01-22     03:56:18             3              56   \n",
       "10  207.46.13.136   2019-01-22     03:56:18             3              56   \n",
       "11  40.77.167.129   2019-01-22     03:56:19             3              56   \n",
       "12  178.253.33.51   2019-01-22     03:56:19             3              56   \n",
       "13  40.77.167.129   2019-01-22     03:56:19             3              56   \n",
       "14    91.99.72.15   2019-01-22     03:56:19             3              56   \n",
       "15  40.77.167.129   2019-01-22     03:56:19             3              56   \n",
       "16  207.46.13.136   2019-01-22     03:56:19             3              56   \n",
       "17  40.77.167.129   2019-01-22     03:56:19             3              56   \n",
       "18  40.77.167.129   2019-01-22     03:56:20             3              56   \n",
       "19  66.249.66.194   2019-01-22     03:56:20             3              56   \n",
       "\n",
       "    request_second request_day_of_week type_of_server  requested_bytes  \n",
       "0               14             Tuesday         filter            30577  \n",
       "1               16             Tuesday          image             5667  \n",
       "2               16             Tuesday          image             5379  \n",
       "3               17             Tuesday          image             1696  \n",
       "4               17             Tuesday        product            41483  \n",
       "5               17             Tuesday          image             2654  \n",
       "6               18             Tuesday          image             3688  \n",
       "7               18             Tuesday          image            14776  \n",
       "8               18             Tuesday         filter            34277  \n",
       "9               18             Tuesday          image             1695  \n",
       "10              18             Tuesday        product            39677  \n",
       "11              19             Tuesday          image             9831  \n",
       "12              19             Tuesday        product            20406  \n",
       "13              19             Tuesday          image             1796  \n",
       "14              19             Tuesday        product            41725  \n",
       "15              19             Tuesday          image             2739  \n",
       "16              19             Tuesday        product            33617  \n",
       "17              19             Tuesday          image             2788  \n",
       "18              20             Tuesday          image             3481  \n",
       "19              20             Tuesday         filter            19451  "
      ]
     },
     "execution_count": 4,
     "metadata": {},
     "output_type": "execute_result"
    }
   ],
   "source": [
    "top_20_records = formatted_dataset.head(20)\n",
    "top_20_records"
   ]
  },
  {
   "cell_type": "code",
   "execution_count": 5,
   "id": "35b52ae7-dff0-4d70-a0cb-a31b6467c57a",
   "metadata": {},
   "outputs": [],
   "source": [
    "# Removing this since this has imcomplete data\n",
    "formatted_dataset_wr = formatted_dataset.loc[~((formatted_dataset['request_date'] == '2019-01-22') & (formatted_dataset['request_hour'] == 3))]"
   ]
  },
  {
   "cell_type": "code",
   "execution_count": 6,
   "id": "a91f21a7-ef2c-4a84-9406-839a2ab195e4",
   "metadata": {},
   "outputs": [],
   "source": [
    "columns_to_drop = ['IP', 'request_day_of_week', 'request_hour', 'request_minute', 'request_second', 'request_day_of_week']\n",
    "formatted_dataset_wr = formatted_dataset_wr.drop(columns=columns_to_drop)"
   ]
  },
  {
   "cell_type": "code",
   "execution_count": 7,
   "id": "d4f7c84f-19f0-4d40-b744-9054aa69fd77",
   "metadata": {},
   "outputs": [
    {
     "data": {
      "text/plain": [
       "IP                     object\n",
       "request_date           object\n",
       "request_time           object\n",
       "request_hour            int64\n",
       "request_minute          int64\n",
       "request_second          int64\n",
       "request_day_of_week    object\n",
       "type_of_server         object\n",
       "requested_bytes         int64\n",
       "dtype: object"
      ]
     },
     "execution_count": 7,
     "metadata": {},
     "output_type": "execute_result"
    }
   ],
   "source": [
    "formatted_dataset.dtypes"
   ]
  },
  {
   "cell_type": "code",
   "execution_count": 8,
   "id": "b0ebd1f5-c5bb-4f32-ada1-13b1b89d6747",
   "metadata": {},
   "outputs": [],
   "source": [
    "formatted_dataset_wr['request_date_time'] = formatted_dataset_wr['request_date'].astype(str) + ' ' + formatted_dataset_wr['request_time'].astype(str)\n",
    "formatted_dataset_wr[['request_date', 'request_time', 'request_date_time']].compute()\n",
    "\n",
    "columns_to_drop = ['request_date', 'request_time']\n",
    "formatted_dataset_wr = formatted_dataset_wr.drop(columns=columns_to_drop)"
   ]
  },
  {
   "cell_type": "code",
   "execution_count": 9,
   "id": "e2ccba55-976c-493d-8874-4116a313e3d3",
   "metadata": {},
   "outputs": [],
   "source": [
    "formatted_dataset_wr['request_date_time_object'] = dd.to_datetime(formatted_dataset_wr['request_date_time'], format='%Y-%m-%d %H:%M:%S')"
   ]
  },
  {
   "cell_type": "code",
   "execution_count": 10,
   "id": "b0d6911e-54c6-44c6-b2ed-e427cccb4e58",
   "metadata": {},
   "outputs": [],
   "source": [
    "# Preliminary Data Analysis"
   ]
  },
  {
   "cell_type": "code",
   "execution_count": 11,
   "id": "dfd60c3e-efaf-4b27-a4f5-b9c317ba3e1a",
   "metadata": {},
   "outputs": [
    {
     "data": {
      "text/plain": [
       "type_of_server                      object\n",
       "requested_bytes                      int64\n",
       "request_date_time                   object\n",
       "request_date_time_object    datetime64[ns]\n",
       "dtype: object"
      ]
     },
     "execution_count": 11,
     "metadata": {},
     "output_type": "execute_result"
    }
   ],
   "source": [
    "formatted_dataset_wr.dtypes\n"
   ]
  },
  {
   "cell_type": "code",
   "execution_count": 12,
   "id": "ac556a24-cfaa-4366-a31a-a9c770716a7c",
   "metadata": {},
   "outputs": [],
   "source": [
    "formatted_dataset_wr = formatted_dataset_wr.drop(columns=['request_date_time'])"
   ]
  },
  {
   "cell_type": "code",
   "execution_count": 13,
   "id": "3e1e407f-952c-446d-a229-32952a869411",
   "metadata": {},
   "outputs": [
    {
     "data": {
      "text/plain": [
       "['/Users/fyrozdadapeer/Desktop/IIITKota Mtech Course work/3. Coursework/6. Open Ended Project/Project Files/subsets/static_requests.csv']"
      ]
     },
     "execution_count": 13,
     "metadata": {},
     "output_type": "execute_result"
    }
   ],
   "source": [
    "# Segregating into different server types\n",
    "# Image dataset\n",
    "image_requests = formatted_dataset_wr.loc[formatted_dataset_wr['type_of_server'] == 'image']\n",
    "image_requests = image_requests.drop(columns=['type_of_server'])\n",
    "image_requests.to_csv('subsets/image_requests.csv', index=False, single_file=True)\n",
    "\n",
    "# Static\n",
    "static_requests = formatted_dataset_wr.loc[formatted_dataset_wr['type_of_server'] == 'static']\n",
    "static_requests = static_requests.drop(columns=['type_of_server'])\n",
    "static_requests.to_csv('subsets/static_requests.csv', index=False, single_file=True)\n"
   ]
  },
  {
   "cell_type": "code",
   "execution_count": 14,
   "id": "dd674ed9-9aa6-476b-b8cd-0e2c0ab94ff6",
   "metadata": {},
   "outputs": [
    {
     "data": {
      "text/plain": [
       "['/Users/fyrozdadapeer/Desktop/IIITKota Mtech Course work/3. Coursework/6. Open Ended Project/Project Files/subsets/filter_product_requests.csv']"
      ]
     },
     "execution_count": 14,
     "metadata": {},
     "output_type": "execute_result"
    }
   ],
   "source": [
    "# Filter & Product\n",
    "filter_product_requests_servers = ['filter', 'product']\n",
    "\n",
    "# filter_product_requests = formatted_dataset.loc[formatted_dataset['type_of_server'] == 'filter' or formatted_dataset['type_of_server'] == 'product']\n",
    "filter_product_requests = formatted_dataset_wr.loc[formatted_dataset_wr['type_of_server'].isin(filter_product_requests_servers)]\n",
    "filter_product_requests = filter_product_requests.drop(columns=['type_of_server'])\n",
    "filter_product_requests.to_csv('subsets/filter_product_requests.csv', index=False, single_file=True)"
   ]
  },
  {
   "cell_type": "code",
   "execution_count": 15,
   "id": "2152050a-f2de-4dcf-b1c1-b4dafec4dde7",
   "metadata": {},
   "outputs": [
    {
     "data": {
      "text/plain": [
       "['/Users/fyrozdadapeer/Desktop/IIITKota Mtech Course work/3. Coursework/6. Open Ended Project/Project Files/subsets/settings_requests.csv']"
      ]
     },
     "execution_count": 15,
     "metadata": {},
     "output_type": "execute_result"
    }
   ],
   "source": [
    "# Settings\n",
    "settings_requests = formatted_dataset_wr.loc[formatted_dataset_wr['type_of_server'] == 'settings']\n",
    "settings_requests = settings_requests.drop(columns=['type_of_server'])\n",
    "settings_requests.to_csv('subsets/settings_requests.csv', index=False, single_file=True)"
   ]
  },
  {
   "cell_type": "code",
   "execution_count": 16,
   "id": "3c758f43-62e1-408a-b176-9660b1e2726f",
   "metadata": {},
   "outputs": [
    {
     "data": {
      "text/plain": [
       "['/Users/fyrozdadapeer/Desktop/IIITKota Mtech Course work/3. Coursework/6. Open Ended Project/Project Files/subsets/other_requests.csv']"
      ]
     },
     "execution_count": 16,
     "metadata": {},
     "output_type": "execute_result"
    }
   ],
   "source": [
    "# Other main functionalities\n",
    "other_requests_servers_excluded = ['image', 'static', 'filter', 'product', 'settings']\n",
    "other_requests = formatted_dataset_wr.loc[~formatted_dataset_wr['type_of_server'].isin(other_requests_servers_excluded)]\n",
    "other_requests = other_requests.drop(columns=['type_of_server'])\n",
    "other_requests.to_csv('subsets/other_requests.csv', index=False, single_file=True)"
   ]
  }
 ],
 "metadata": {
  "kernelspec": {
   "display_name": "Python 3 (ipykernel)",
   "language": "python",
   "name": "python3"
  },
  "language_info": {
   "codemirror_mode": {
    "name": "ipython",
    "version": 3
   },
   "file_extension": ".py",
   "mimetype": "text/x-python",
   "name": "python",
   "nbconvert_exporter": "python",
   "pygments_lexer": "ipython3",
   "version": "3.10.10"
  }
 },
 "nbformat": 4,
 "nbformat_minor": 5
}
