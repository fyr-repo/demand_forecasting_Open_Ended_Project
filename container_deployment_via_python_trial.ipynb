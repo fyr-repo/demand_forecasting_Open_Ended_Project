{
 "cells": [
  {
   "cell_type": "code",
   "execution_count": null,
   "id": "2f0ea824-9b03-4a12-909a-2faffa421979",
   "metadata": {},
   "outputs": [],
   "source": [
    "from kubernetes import client, config\n",
    "from kubernetes.client.rest import ApiException\n",
    "\n",
    "def create_deployment(api_instance, namespace):\n",
    "    pod_manifest = {\n",
    "        \"apiVersion\": \"v1\",\n",
    "        \"kind\": \"Pod\",\n",
    "        \"metadata\": {\"name\": \"my-pod\"},\n",
    "        \"spec\": {\n",
    "            \"containers\": [\n",
    "                {\n",
    "                    \"name\": \"nginx-container\",\n",
    "                    \"image\": \"nginx:latest\",\n",
    "                    \"ports\": [{\"containerPort\": 80}],\n",
    "                }\n",
    "            ]\n",
    "        },\n",
    "    }\n",
    "\n",
    "    try:\n",
    "        api_response = api_instance.create_namespaced_pod(\n",
    "            body=pod_manifest, namespace=namespace\n",
    "        )\n",
    "        print(\"Pod created. Status: %s\" % str(api_response.status))\n",
    "    except ApiException as e:\n",
    "        print(f\"Exception when calling CoreV1Api->create_namespaced_pod: {e}\")\n",
    "\n",
    "def main():\n",
    "    config.load_kube_config()\n",
    "    api_instance = client.CoreV1Api()\n",
    "    namespace = \"default\"\n",
    "\n",
    "    create_deployment(api_instance, namespace)\n",
    "\n",
    "if __name__ == \"__main__\":\n",
    "    main()\n"
   ]
  }
 ],
 "metadata": {
  "kernelspec": {
   "display_name": "Python 3 (ipykernel)",
   "language": "python",
   "name": "python3"
  },
  "language_info": {
   "codemirror_mode": {
    "name": "ipython",
    "version": 3
   },
   "file_extension": ".py",
   "mimetype": "text/x-python",
   "name": "python",
   "nbconvert_exporter": "python",
   "pygments_lexer": "ipython3",
   "version": "3.10.10"
  }
 },
 "nbformat": 4,
 "nbformat_minor": 5
}
